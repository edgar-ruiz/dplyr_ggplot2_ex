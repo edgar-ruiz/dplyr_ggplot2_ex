{
 "cells": [
  {
   "cell_type": "markdown",
   "metadata": {},
   "source": [
    "## 1. Datos de esperanza de vida de Naciones Unidas\n",
    "<p>La esperanza de vida al nacer es una medida del promedio del número de años que se espera que viva un ser humano. Tiene en cuenta varios factores demográficos como el género, el país o el año de nacimiento.</p>\n",
    "<p>La esperanza de vida al nacer puede variar a lo largo del tiempo o entre países debido a muchas razones: la evolución de la medicina, el grado de desarrollo de los países o el efecto de los conflictos armados. La esperanza de vida también varía según el género. Los datos muestran que las mujeres viven más que los hombres. ¿Por qué? Varios factores potenciales, incluidas las razones biológicas y la teoría de que las mujeres tienden a ser más conscientes de la salud.</p>\n",
    "<p>Hagamos algunos gráficos para explorar las desigualdades sobre la esperanza de vida al nacer en todo el mundo. Utilizaremos un conjunto de datos de la División de Estadística de la Organización de las Naciones Unidas, que está disponible <a href=\"http://data.un.org/Data.aspx?d=GenderStat&f=inID:37&c=1,2,3,4,5,6&s=crEngName:asc,sgvEngName:asc,timeEngName:desc&v=1\">aquí</a>.</p>"
   ]
  },
  {
   "cell_type": "code",
   "execution_count": null,
   "metadata": {},
   "outputs": [],
   "source": [
    "# Este código determina el tamaño del gráfico\n",
    "# en el Jupyter Notebook\n",
    "options(repr.plot.width = 6, repr.plot.height = 6)\n",
    "\n",
    "# Carga los paquetes \n",
    "# .... TU CÓDIGO PARA LA TAREA 1 ....\n",
    "\n",
    "# Carga tus datos\n",
    "life_expectancy <- ....\n",
    "\n",
    "# Utiliza una función para ver las primeras 10 observaciones\n",
    "# .... YOUR CODE FOR TASK 1 ...."
   ]
  },
  {
   "cell_type": "markdown",
   "metadata": {},
   "source": [
    "## 2. Esperanza de vida por sexo y país\n",
    "<p>Haremos algunas manipulaciones a los datos para facilitar nuestra exploración. Construiremos el dataset para nuestro primer gráfico en el que representaremos la esperanza de vida promedio de hombres y mujeres en todos los países durante el último período registrado en nuestros datos (2000-2005).</p>"
   ]
  },
  {
   "cell_type": "code",
   "execution_count": null,
   "metadata": {},
   "outputs": [],
   "source": [
    "# Subselecciona y utiliza las funciones de reshape\n",
    "subdata <- life_expectancy  %>% \n",
    "    # .... TU CÓDIGO PARA LA TAREA 2 ....\n",
    "\n",
    "# Ve las primeras observaciones\n",
    "# .... TU CÓDIGO PARA LA TAREA 2 ...."
   ]
  },
  {
   "cell_type": "markdown",
   "metadata": {},
   "source": [
    "## 3. Visualicemos\n",
    "<p>Un diagrama de dispersión es una forma útil de visualizar la relación entre dos variables. Es un diagrama simple en el que los puntos están dispuestos en dos ejes, cada uno de los cuales representa una de esas variables. </p>\n",
    "<p>Creemos un diagrama de dispersión usando <code>ggplot2</code> para representar la esperanza de vida de los hombres (en el eje x) frente a las mujeres (en el eje y). Crearemos un gráfico sencillo en este paso, sin muchos detalles. Nos ocuparemos de este tipo de cosas en breve.</p>"
   ]
  },
  {
   "cell_type": "code",
   "execution_count": null,
   "metadata": {},
   "outputs": [],
   "source": [
    "# Grafica la esperanza de vida para hombres y mujeres\n",
    "# .... TU CÓDIGO PARA LA TAREA 3 ...."
   ]
  },
  {
   "cell_type": "markdown",
   "metadata": {},
   "source": [
    "## 4. Líneas de referencia\n",
    "<p>Un buen gráfico debe ser fácil de entender. Hay muchas funciones en <code>ggplot2</code> que nos ayudan a lograrlo. Exploremos algunas de ellas empezanso por el gráfico anterior. Primero, pongamos los mismos límites en ambos ejes y añadamos una línea de referencia de 45 grados en nuestra visualización. Con esto, la diferencia en nuestro indicador (esperanza de vida) será más fácil de entender.</p>\n",
    "<p>Cuando termines esta tarea te darás cuenta que la mayoría de los puntos están colocados arriba de la diagonal y muy dispersos entre ellos. ¿Eso qué significa?</p>"
   ]
  },
  {
   "cell_type": "code",
   "execution_count": null,
   "metadata": {},
   "outputs": [],
   "source": [
    "# Añade una geom_abline que pase por cero en cuando x=0\n",
    "# y que tenga una pendiente m=1 \n",
    "# .... SOLUCIÓN DE LA TAREA 3 ....\n",
    "# .... TU CÓDIGO DE LA TAREA 4 ...."
   ]
  },
  {
   "cell_type": "markdown",
   "metadata": {},
   "source": [
    "## 5. Títulos y etiquetas\n",
    "<p>Un punto clave para hacer que un gráfico sea comprensible es colocar etiquetas claras. Agreguemos títulos, etiquetas de los ejes y una leyenda para referir a la fuente de datos. Cambiemos también la apariencia para hacerlo más claro.</p>"
   ]
  },
  {
   "cell_type": "code",
   "execution_count": null,
   "metadata": {},
   "outputs": [],
   "source": [
    "# Etiquetando el gráfico anterior\n",
    "ggplot(subdata, aes(x=hombre, y=mujer))+\n",
    "  geom_point(colour=\"white\", fill=\"chartreuse3\", shape=21, alpha=.55, size=5)+\n",
    "  geom_abline(intercept = 0, slope = 1, linetype=2)+\n",
    "  scale_x_continuous(limits=c(35,85))+\n",
    "  scale_y_continuous(limits=c(35,85))+\n",
    "  labs(title=....,\n",
    "       subtitle=\"Años estimados promedio (2000-2005)\",\n",
    "       caption=....,\n",
    "       x=....,\n",
    "       y=....)"
   ]
  },
  {
   "cell_type": "markdown",
   "metadata": {},
   "source": [
    "## 6. Resaltando países seleccionados\n",
    "<p>Ahora, etiquetaremos algunos puntos de nuestro gráfico con el nombre del país correspondiente. Queremos llamar la atención sobre algunos países donde la brecha en la esperanza de vida entre hombres y mujeres es significativamente alta. Estos serán los toques finales en este primer gráfico.</p>"
   ]
  },
  {
   "cell_type": "code",
   "execution_count": null,
   "metadata": {},
   "outputs": [],
   "source": [
    "# Subseleccionar los datos para obtener países de interés\n",
    "top_hombre <- subdata %>% arrange(hombre-mujer) %>% head(3)\n",
    "top_mujer <- subdata %>% arrange(mujer-hombre) %>% head(3)\n",
    "\n",
    "# Añadiendo texto a la gráfica anterior\n",
    "ggplot(subdata, aes(x=hombre, y=mujer, ....))+\n",
    "  geom_point(colour=\"white\", fill=\"chartreuse3\", shape=21, alpha=.55, size=5)+\n",
    "  geom_abline(intercept = 0, slope = 1, linetype=2)+\n",
    "  scale_x_continuous(limits=c(35,85))+\n",
    "  scale_y_continuous(limits=c(35,85))+\n",
    "  labs(title=\"Esperanza de vida al nacer, por país y sexo\",\n",
    "       subtitle=\"Años estimados promedio (2000-2005)\",\n",
    "       caption=\"Fuente: División de Estadística de Naciones Unidas\",\n",
    "       x=\"Hombres\",\n",
    "       y=\"Mujeres\")+\n",
    "# .... TU CÓDIGO PARA LA TAREA 6 ....\n"
   ]
  },
  {
   "cell_type": "markdown",
   "metadata": {},
   "source": [
    "## 7. Evolución de la esperanza de vida por sexo\n",
    "<p>Dado que nuestros datos contienen información histórica, veamos ahora cómo ha evolucionado la esperanza de vida en los últimos años. Nuestro segundo diagrama representará la diferencia entre hombres y mujeres en los países entre dos períodos: 2000-2005 y 1985-1990.</p>\n",
    "<p>Creemos un objeto llamado <code>subdata2</code> con información para nuestro segundo gráfico. </p>"
   ]
  },
  {
   "cell_type": "code",
   "execution_count": null,
   "metadata": {},
   "outputs": [],
   "source": [
    "# Subselecciona, crea y aplica el reshape a la base\n",
    "subdata2 <- life_expectancy %>% \n",
    "  filter(Year %in% c(\"1985-1990\", \"2000-2005\")) %>% \n",
    "  mutate(Sub_Year=paste(Subgroup, Year, sep=\"_\")) %>% \n",
    "  mutate(Sub_Year=gsub(\"-\", \"_\", Sub_Year)) %>% \n",
    "  select(-Subgroup, -Year) %>% \n",
    "# .... TU CÓDIGO PARA LA TAREA 7 ....\n",
    "\n",
    "\n",
    "# Imprime las primeras observaciones\n",
    "# .... TU CÓDIGO PARA LA TAREA 7 ...."
   ]
  },
  {
   "cell_type": "markdown",
   "metadata": {},
   "source": [
    "## 8. Segunda visualización\n",
    "<p>Ahora crea una segunda gáfica en donde se represente la diferencia en la esperanza de vida, por sexo, entre \"1985-1990\" y \"2000-2005\".</p>"
   ]
  },
  {
   "cell_type": "code",
   "execution_count": null,
   "metadata": {},
   "outputs": [],
   "source": [
    "# Gráfico con líneas de referencia, ejes y etiquetas\n",
    "ggplot(subdata2, aes(x=...., y=...., label=pais_o_region))+\n",
    "  geom_point(colour=\"white\", fill=\"chartreuse3\", shape=21, alpha=.55, size=5)+\n",
    "  geom_abline(intercept = 0, slope = 1, linetype=2)+\n",
    "# .... TU CÓDIGO PARA LA TAREA 8 ....\n",
    "  labs(title=\"Esperanza de vida al nacer, por país y sexo\",\n",
    "       subtitle=\"Diferencia entre 1985-1990 y 2000-2005\",\n",
    "       caption=\"Fuente: División de Estadística de Naciones Unidas\",\n",
    "       x=\"Hombres\",\n",
    "       y=\"Mujeres\")+\n",
    "theme_bw()"
   ]
  },
  {
   "cell_type": "markdown",
   "metadata": {},
   "source": [
    "## 9. Más líneas de referencia\n",
    "<p>Agregar líneas de referencia puede hacer que las gráficas sean más fáciles de entender. Ya agregamos una línea diagonal para visualizar las diferencias entre hombres y mujeres más claramente. Ahora agregaremos dos líneas más para ayudar a identificar en qué países las personas aumentaron o disminuyeron su esperanza de vida en el período analizado.</p>"
   ]
  },
  {
   "cell_type": "code",
   "execution_count": null,
   "metadata": {},
   "outputs": [],
   "source": [
    "# Añade una hline y vline al gráfico anterior\n",
    "ggplot(subdata2, aes(x=dif_hombre, y=dif_mujer, label=pais_o_region))+\n",
    "  geom_point(colour=\"white\", fill=\"chartreuse3\", shape=21, alpha=.55, size=5)+\n",
    "  geom_abline(intercept = 0, slope = 1, linetype=2)+\n",
    "  scale_x_continuous(limits=c(-25,25))+\n",
    "  scale_y_continuous(limits=c(-25,25))+\n",
    "# .... TU CÓDIGO PARA LA TAREA 9 ....\n",
    "  labs(title=\"Esperanza de vida al nacer, por país y sexo\",\n",
    "       subtitle=\"Diferencia entre 1985-1990 y 2000-2005\",\n",
    "       caption=\"Fuente: División de Estadística de Naciones Unidas\",\n",
    "       x=\"Hombres\",\n",
    "       y=\"Mujeres\")+\n",
    "theme_bw()"
   ]
  },
  {
   "cell_type": "markdown",
   "metadata": {},
   "source": [
    "## 10. Últimos detalles\n",
    "<p>Como hicimos en el primer gráfico, etiquetemos algunos puntos. Concretamente, señalaremos los tres donde la esperanza de vida promedio sumada para hombres y mujeres aumentó más y los tres donde disminuyeron más en el período.</p>"
   ]
  },
  {
   "cell_type": "code",
   "execution_count": null,
   "metadata": {},
   "outputs": [],
   "source": [
    "# Subseleccionar para obtener países de interés\n",
    "top <- subdata2 %>% arrange(dif_hombre+dif_mujer) %>% head(3)\n",
    "bottom <- ....\n",
    "\n",
    "# Añadir las etiquetas de interés\n",
    "ggplot(subdata2, aes(x=dif_hombre, y=dif_mujer, label=pais_o_region), guide=FALSE)+\n",
    "  geom_point(colour=\"white\", fill=\"chartreuse3\", shape=21, alpha=.55, size=5)+\n",
    "  geom_abline(intercept = 0, slope = 1, linetype=2)+\n",
    "  scale_x_continuous(limits=c(-25,25))+\n",
    "  scale_y_continuous(limits=c(-25,25))+\n",
    "  geom_hline(yintercept=0, linetype=2)+\n",
    "  geom_vline(xintercept=0, linetype=2)+\n",
    "  labs(title=\"Esperanza de vida al nacer, por país y sexo\",\n",
    "       subtitle=\"Diferencia entre 1985-1990 y 2000-2005\",\n",
    "       caption=\"Fuente: División de Estadística de Naciones Unidas\",\n",
    "       x=\"Hombres\",\n",
    "       y=\"Mujeres\")+\n",
    "# .... TU CÓDIGO PARA LA TAREA 10 ....\n",
    "  theme_bw()"
   ]
  }
 ],
 "metadata": {
  "kernelspec": {
   "display_name": "R",
   "language": "R",
   "name": "ir"
  },
  "language_info": {
   "codemirror_mode": "r",
   "file_extension": ".r",
   "mimetype": "text/x-r-source",
   "name": "R",
   "pygments_lexer": "r",
   "version": "3.6.3"
  }
 },
 "nbformat": 4,
 "nbformat_minor": 4
}
