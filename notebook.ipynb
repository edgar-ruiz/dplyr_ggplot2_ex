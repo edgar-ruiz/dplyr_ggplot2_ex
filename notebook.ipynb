{
 "cells": [
  {
   "cell_type": "markdown",
   "metadata": {},
   "source": [
    "## 1. El camino de epidemia a pandemia\n",
    "<p><img style=\"float: left; margin:5px 20px 5px 1px; width:40%\" src=\"https://www.nps.gov/aboutus/news/images/CDC-coronavirus-image-23311-for-web.jpg\"></p>\n",
    "<p>En diciembre de 2019, la enfermedad del coronavirus fue identificada por primera vez en Wuhan, region de China. Para el 11 de marzo de 2020, la Organización Mundial de la Salud (OMS) ya había categorizado al COVID-19 como una pandemia. Muchas cosas han pasado desde entonces con brotes masivos en Iran, Corea del Sur e Italia. </p>\n",
    "<p>Ahora sabemos que el COVID-19 se contagia por fluidos respiratorios en actividades tales como tocer, estornudar o hablar. Aún así, es importante analizar lo rápido que el virus se propagó alrededor del mundo. Con esta información, ¿podemos ver algun efecto de las políticas de salud implementadas, como cuarentenas y cierres temporales? </p>\n",
    "<p>Afortunadamente, algunas organizaciones alrededor del mundo han recolectado datos para que los gobiernos puedan monitorear el comportamiento global de la pandemia. Es notable el trabajo del Centro de Ciencias en Sistemas e Ingeniería de la Universidad Johns Hopkins para crear un <a href=\"https://github.com/RamiKrispin/coronavirus\">repositorio público con los datos disponibles</a> que reúne la información de la OMS, los Centros de Control de enfermedades y Secretarías o Ministerios de Salud de diversos países.</p>\n",
    "\n",
    "<p>En este proyecto, crearás vizualizaciones de los datos desde las primeras semanas del COVID-19 hasta el contagio mundial, con el objetivo de identificar el punto en el que el virus se convirtió en pandemia.</p>\n",
    "<p><em>Los datos que utilizaremos tienen como fecha de corte el 17 de Marzo de 2020. Puedes intentar replicar este análisis con los datos más actualizados. Es importante que, cuando tu base tenga datos de fecha, uses las funciones mutate() y as.Date() para transformarlas, de lo contrario, tu gráfico no se verá correctamente.</em></p>"
   ]
  },
  {
   "cell_type": "code",
   "execution_count": 1,
   "metadata": {},
   "outputs": [],
   "source": [
    "# Opciones para tamaño de gráficas\n",
    "options(repr.plot.width=8, repr.plot.height=6\n",
    "# Carga los paquetes ggplot2 y dplyr\n",
    "...\n",
    "...\n",
    "\n",
    "# Lee la base datos/casos_mundo.csv en el objeto casos_mundiales\n",
    "casos_mundiales <- ...\n",
    "\n",
    "# Ver el resultado\n",
    "casos_mundiales"
   ]
  },
  {
   "cell_type": "markdown",
   "metadata": {},
   "source": [
    "## 2. Casos confirmados a nivel mundial\n",
    "<p>La tabla anterior muestra los casos acumulados confirmados de COVID-19 en todo el mundo por fecha. Al sólo leer los números en una tabla hace que sea difícil tener una idea de la escala y el crecimiento del brote. Dibujemos una gráfica con geometría de línea para visualizar los casos confirmados en todo el mundo.\n",
    "\n",
    "    Mapea la variable 'casos_acum' en el eje y, así como 'fecha' en el eje x.\n",
    "    \n",
    "    Añade la etiqueta del eje y para que diga 'Casos acumulados confirmados'</p>"
   ]
  },
  {
   "cell_type": "code",
   "execution_count": null,
   "metadata": {},
   "outputs": [],
   "source": [
    "# Crea una gráfica de línea con 'casos_acum' y 'fecha'\n",
    "# Etiqueta el eje y\n",
    "ggplot(..., aes(...)) +\n",
    "    ...() +\n",
    "    labs(y=\"Casos acumulados confirmados\")"
   ]
  },
  {
   "cell_type": "markdown",
   "metadata": {},
   "source": [
    "## 3. Comparando China con el mundo\n",
    "\n",
    "<p>Nuestro primer gráfico es alarmante con cerca de 200 mil casos confirmados a nivel mundial. Adicionalmente, algo extraño está pasando: hay un salto raro a mediados de Febrero, despues la tasa de casos desciende un poco para volver a acelerarse en Marzo. Necesitamos profundizar en nuestro análisis para entender lo que está sucediendo.</p>\n",
    "\n",
    "<p>En la fase temprana del contagio, los casos de COVID-19 estaban centrados primordialmente en China. Creemos una gráfica que muestre los casos confirmados en China separándolo de la información del resto del mundo para ver si nos da alguna pista.</p>\n",
    "\n",
    "<p><em>En las tareas siguientes utilizaremos este gráfico, por lo que es importante que los datos de mapeo (aesthetics) los añadamos en la línea de la geometría, en lugar de hacerlo de forma global dentro de la función ggplot().</em></p>"
   ]
  },
  {
   "cell_type": "code",
   "execution_count": null,
   "metadata": {},
   "outputs": [],
   "source": [
    "# Lee la base en datos/casos_china_vs_mundo.csv\n",
    "casos_china_vs_mundo <- read.csv(...)\n",
    "\n",
    "# Imprime los resultados\n",
    "casos_china_vs_mundo\n",
    "\n",
    "# Grafica de nuevo los casos acumulados por fecha (como en la tarea anterior)\n",
    "# Mapea la variable es_china en la dimensión 'color'.\n",
    "# Define el mapeo dentro de la geometría de línea\n",
    "graf_casos_china_vs_mundo <- ggplot(...) +\n",
    "    geom_line(aes(...)) +\n",
    "    ylab(\"Casos acumulados confirmados\")\n",
    "\n",
    "# Imprime el gráfico\n",
    "graf_casos_china_vs_mundo"
   ]
  },
  {
   "cell_type": "markdown",
   "metadata": {},
   "source": [
    "## 4. ¡Hagamos algunas anotaciones!\n",
    "<p>Ambas lineas tienen formas muy distintas entre sí. En febrero, la mayoría de los casos estaban en China. Eso cambió en Marzo cuando se convirtió en un problema global: alrededor del 14 de Marzo, el total de casos confirmados fuera de China sobrepasaron los casos internos. Este fue el día que la OMS declaró la enfermedad como pandemia.</p>\n",
    "\n",
    "<p>Existen otros eventos relevantes que pasaron durante la fase de contagio. Por ejemplo, el gran salto en la serie de China el 13 de febrero no se debe a un alto número de contagios, sino a un cambio en la metodología de reporte (incluyeron las tomografías como evidencia del COVID-19, en lugar de sólo las pruebas de laboratorio).</p>\n",
    "\n",
    "<p>Al hacer anotaciones a nuestra gráfica de eventos como este, podemos interpretar de mejor forma la serie.</p>"
   ]
  },
  {
   "cell_type": "code",
   "execution_count": null,
   "metadata": {},
   "outputs": [],
   "source": [
    "eventos_oms <- read.csv(\"datos/eventos_oms.csv\", stringsAsFactors = FALSE) %>%\n",
    "    mutate(fecha = as.Date(fecha))\n",
    "\n",
    "# Usando la base eventos_oms, añade lineas punteadas verticales \n",
    "# mapeando 'fecha' en la dimensión xintercept y añade también una\n",
    "# geometría de texto (geom_text) mapeando en x 'fecha', en label 'evento'\n",
    "# y estableciendo la dimensión \"y\" a una altura fija de 100,000\n",
    "graf_casos_china_vs_mundo +\n",
    "    geom_vline(aes(...), \n",
    "               ...) +\n",
    "    geom_text(aes(...),\n",
    "              ...)"
   ]
  },
  {
   "cell_type": "markdown",
   "metadata": {},
   "source": [
    "## 5. Añadir línea de tendencia a China\n",
    "\n",
    "<p>Para determinar la gravedad de la situación, calcularemos la velocidad de crecimiento de los casos confirmados. Un buen inicio sería determinar si los casos crecen de forma lineal o no.</p>\n",
    "\n",
    "<p>Hay un claro aumento de casos el 13 de febrero a partir de los cambios en el reporte de China. Sin embargo, unos días después, la velocidad de crecimiento vuelve a caer. ¿Cómo podemos describir el comportamiento de los casos confirmados en China después de l 15 de febrero?</p>"
   ]
  },
  {
   "cell_type": "code",
   "execution_count": null,
   "metadata": {},
   "outputs": [],
   "source": [
    "# Filtra las observaciones que en la variable 'es_china'\n",
    "# tienen el valor 'China' y son posteriores al 15 de febrero\n",
    "china_post_15feb <- ...\n",
    "\n",
    "# Usando china_post_15feb, genera una gráfica de línea con casos_acum vs. fecha\n",
    "# Añade una línea de regresión lineal, sin áreas de error \n",
    "ggplot(china_post_15feb, aes(...)) +\n",
    "    geom_line() +\n",
    "    geom_smooth(...) +\n",
    "    ylab(\"Casos confirmados acumulados\")"
   ]
  },
  {
   "cell_type": "markdown",
   "metadata": {},
   "source": [
    "## 6. ¿Y el resto del mundo?\n",
    "\n",
    "<p>De la gráfica anterior observamos que la tasa de crecimiento en China es más lenta que el crecimiento lineal. Es una gran noticia porque indica que China al menos contuvo el virus a fines de febrero y principios de marzo.</p>\n",
    "\n",
    "<p>¿Cómo le fue al resto del mundo cuando lo comparamos con el crecimiento lineal?</p>"
   ]
  },
  {
   "cell_type": "code",
   "execution_count": null,
   "metadata": {},
   "outputs": [],
   "source": [
    "# Filtra en casos_china_vs_mundo las filas donde 'es_china' es igual a 'No es China'\n",
    "no_china <- ...\n",
    "\n",
    "# Usando no_china, dibuja un gráfico de línea con casos_acum vs. fecha\n",
    "# Añade una regresión lineal, sin barras de error\n",
    "graf_no_china <- ggplot(...) +\n",
    "    ...(...) +\n",
    "    ...(...) +\n",
    "    ylab(\"Casos confirmados acumulados\")\n",
    "\n",
    "# Imprime el resultado\n",
    "graf_no_china "
   ]
  },
  {
   "cell_type": "markdown",
   "metadata": {},
   "source": [
    "## 7. Cambiar a escala logarítmica\n",
    "<p>En el gráfico anterior, podemos ver que una línea recta no se ajusta bien porque el resto del mundo está creciendo mucho más rápido que un crecimiento lineal. Agregemos la escala logarítmica al eje. Para ello añade scale_y_log10() al gráfico.</p>"
   ]
  },
  {
   "cell_type": "code",
   "execution_count": null,
   "metadata": {},
   "outputs": [],
   "source": [
    "# Modifica el gráfico para usar la escala logarítmica en el eje y\n",
    "graf_no_china +\n",
    "    ...()"
   ]
  },
  {
   "cell_type": "markdown",
   "metadata": {},
   "source": [
    "## 8. ¿Cuales paises han sido los más afectados?\n",
    "\n",
    "<p>Con la escala logarítmica, encontramos un mejor modelo para describir nuestros datos. Desafortunadamente, desde el punto de vista de salud pública, esto significa que los casos de COVID-19 crecieron a una tasa exponencial.</p>\n",
    "\n",
    "<p>No todos los países han sido afectados de igual forma, por lo que sería útil tener una gráfica para poder diferenciarlos. Hagamos las gráficas con los casos de los 7 países más afectados por el COVID-19.</p>"
   ]
  },
  {
   "cell_type": "code",
   "execution_count": null,
   "metadata": {},
   "outputs": [],
   "source": [
    "# Carga la base de datos por país\n",
    "casos_por_pais <- read.csv(\"datos/cases_por_pais.csv\", stringsAsFactor = FALSE)\n",
    "glimpse(cases_por_pais)\n",
    "\n",
    "# Agrupa por país, utiliza summarize para calcular casos_totales como el valor\n",
    "# máximo de casos_acum y encuentra los primeros 7\n",
    "primeros_lugares <- casos_por_pais %>%\n",
    "    ... %>%\n",
    "    summarize(...) %>% \n",
    "    top_n(7, casos_totales)\n",
    "\n",
    "# Imprime los resultados\n",
    "primeros_lugares"
   ]
  },
  {
   "cell_type": "markdown",
   "metadata": {},
   "source": [
    "## 9. Grafica los países más afectados en mediados de marzo\n",
    "<p>Aunque el brote se identificó por primera vez en China, solo hay un país de Asia oriental (Corea del Sur) en la tabla anterior. Cuatro de los países enumerados (Francia, Alemania, Italia y España) están en Europa y comparten fronteras. Para obtener más contexto, podemos trazar los casos confirmados de estos países a lo largo del tiempo.</p>\n",
    "\n",
    "<p>En el último ejercicio utiliza la funcion facet_wrap() para generar las siete gráficas de los países más afectados.</p>"
   ]
  },
  {
   "cell_type": "code",
   "execution_count": null,
   "metadata": {},
   "outputs": [],
   "source": [
    "# Carga las bases del top 7\n",
    "casos_top7 <- read.csv(\"datos/casos_top7.csv\", stringsAsFactor = FALSE)\n",
    "glimpse(casos_top7)\n",
    "\n",
    "# Usando casos_top7, dibuja un gráfico de linea de\n",
    "# casos_acum vs. fecha, coloreado por país, en páneles separados.\n",
    "# y añade la etiqueta del eje y\n",
    "..."
   ]
  }
 ],
 "metadata": {
  "kernelspec": {
   "display_name": "R",
   "language": "R",
   "name": "ir"
  },
  "language_info": {
   "codemirror_mode": "r",
   "file_extension": ".r",
   "mimetype": "text/x-r-source",
   "name": "R",
   "pygments_lexer": "r",
   "version": "3.6.3"
  }
 },
 "nbformat": 4,
 "nbformat_minor": 2
}
