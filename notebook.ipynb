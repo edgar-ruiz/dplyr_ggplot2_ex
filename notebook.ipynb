{
  "cells": [
    {
      "metadata": {
        "dc": { "key": "4" },
        "deletable": false,
        "editable": false,
        "run_control": { "frozen": true },
        "tags": [ "context" ]
      },
      "cell_type": "markdown",
      "source": "## 1. El camino de epidemia a pandemia\n<p><img style=\"float: left; margin:5px 20px 5px 1px; width:40%\" src=\"https://www.nps.gov/aboutus/news/images/CDC-coronavirus-image-23311-for-web.jpg?maxwidth=650&autorotate=false\"></p>\n<p>En diciembre de 2019, la enfermedad del coronavirus fue identificada por primera vez en Wuhan, region de China. Para el 11 de marzo de 2020, la Organizaci�n Mundial de la Salud (OMS) ya hab�a categorizado al COVID-19 como una pandemia. Muchas cosas han pasado desde entonces con brotes masivos en Iran, Corea del Sur e Italia. </p>\n<p>Ahora sabemos que el COVID-19 se contagia por fluidos respiratorios en actividades tales como tocer, estornudar o hablar. A�n as�, es importante analizar lo r�pido que el virus se propag� alrededor del mundo. Con esta informaci�n, �podemos ver algun efecto de las pol�ticas de salud implementadas, como cuarentenas y cierres temporales? </p>\n<p>Afortunadamente, algunas organizaciones alrededor del mundo han recolectado datos para que los gobiernos puedan monitorear el comportamiento global de la pandemia. Es notable el trabajo del Centro de Ciencias en Sistemas e Ingenier�a de la Universidad Johns Hopkins para crear un <a href=\"https://github.com/RamiKrispin/coronavirus\">repositorio p�blico con los datos disponibles</a> que re�ne la informaci�n de la OMS, los Centros de Control de enfermedades y Secretar�as o Ministerios de Salud de diversos pa�ses.</p>\n<p>En este proyecto, crear�s vizualizaciones de los datos desde las primeras semanas del COVID-19 hasta el contagio mundial, con el objetivo de identificar el punto en el que el virus se convirti� en pandemia.</p>\n<p><em>Los datos que utilizaremos tienen como fecha de corte el 17 de Marzo de 2020. Puedes intentar replicar este an�lisis con los datos m�s actualizados.</em></p>"
    },
    {
      "metadata": {
        "dc": { "key": "4" },
        "tags": [ "sample_code" ],
        "trusted": true
      },
      "cell_type": "code",
      "source": "# Carga los paquetes ggplot2 y dplyr\\nlibrary(readr)\\nlibrary(ggplot2)\\nlibrary(dplyr)\\n\\n# Lee la base datos/casos_mundo.csv en el objeto casos_mundiales\\casos_mundiales <- read_csv(\\\"datos/casos_mundo.csv\\\")\\n\\n# Ver el resultado\\casos_mundiales",
      "execution_count": 110
    },
    {
      "metadata": {
        "dc": { "key": "12" },
        "deletable": false,
        "editable": false,
        "run_control": { "frozen": true },
        "tags": [ "context" ]
      },
      "cell_type": "markdown",
      "source": "## 2. Casos confirmados a nivel mundial\n<p>La tabla anterior muestra los casos acumulados confirmados de COVID-19 en todo el mundo por fecha. Al s�lo leer los n�meros en una tabla hace que sea dif�cil tener una idea de la escala y el crecimiento del brote. Dibujemos una gr�fica con geometr�a de l�nea para visualizar los casos confirmados en todo el mundo.\\nMapea la variable 'casos_acum' en el eje y, as� como 'fecha' en el eje x. \nA�ade la etiqueta del eje y para que diga 'Casos acumulados confirmados'</p>"
    },
    {
      "metadata": {
        "dc": { "key": "12" },
        "tags": [ "sample_code" ],
        "trusted": true
      },
      "cell_type": "code",
      "source": "# Crea una gr�fica de l�nea con 'casos_acum' y 'fecha'\n# Etiqueta el eje y\nggplot(casos_mundiales, aes(x=fecha, y=casos_acum)) +\n  geom_line() +\n  labs(y=\"Casos acumulados confirmados\")",
      "execution_count": 112
    },
    {
      "metadata": {
        "dc": { "key": "19" },
        "deletable": false,
        "editable": false,
        "run_control": { "frozen": true },
        "tags": [ "context" ]
      },
      "cell_type": "markdown",
      "source": "## 3. Comparando China con el mundo\n<p>Nuestro primer gr�fico es alarmante con cerca de 200 mil casos confirmados a nivel mundial. Adicionalmente, algo extra�o est� pasando: hay un salto raro a mediados de Febrero, despues la tasa de casos desciende un poco para volver a acelerarse en Marzo. Necesitamos profundizar en nuestro an�lisis para entender lo que est� sucediendo.</p>\n<p>En la fase temprana del contagio, los casos de COVID-19 estaban centrados primordialmente en China. Creemos una gr�fica que muestre los casos confirmados en China separ�ndolo de la informaci�n del resto del mundo para ver si nos da alguna pista.</p>\n<p><em>En las tareas siguientes utilizaremos este gr�fico, por lo que es importante que los datos de mapeo (aesthetics) los a�adamos en la l�nea de la geometr�a, en lugar de hacerlo de forma global dentro de la funci�n ggplot().</em></p>"
    },
    {
      "metadata": {
        "dc": { "key": "19" },
        "tags": [ "sample_code" ],
        "trusted": true
      },
      "cell_type": "code",
      "source": "# Lee la base en datos/casos_china_vs_mundo.csv\ncasos_china_vs_mundo <- read_csv(\"datos/casos_china_vs_mundo.csv\")\n\n# Ver los resultados\ncasos_china_vs_mundo\n\n# Grafica de nuevo los casos acumulados por fecha (como en la tarea anterior)\n# Mapea la variable es_china en la dimensi�n 'color'.\n# Define el mapeo dentro de la geometr�a de l�nea\ngraf_casos_china_vs_mundo <- ggplot(casos_china_vs_mundo) +\n  geom_line(aes(x=fecha, y=casos_acum, color=es_china)) +\n  ylab(\"Casos acumulados confirmados\")\n\n# Ver el gr�fico\ngraf_casos_china_vs_mundo",
      "execution_count": 114
    },
    {
      "metadata": {
        "dc": { "key": "26" },
        "deletable": false,
        "editable": false,
        "run_control": { "frozen": true },
        "tags": [ "context" ]
      },
      "cell_type": "markdown",
      "source": "## 4. �Hagamos algunas anotaciones!\n<p>Ambas lineas tienen formas muy distintas entre s�. En febrero, la mayor�a de los casos estaban en China. Eso cambi� en Marzo cuando se convirti� en un problema global: alrededor del 14 de Marzo, el total de casos confirmados fuera de China sobrepasaron los casos internos. Este fue el d�a que la OMS declar� la enfermedad como pandemia.</p>\n<p>Existen otros eventos relevantes que pasaron durante la fase de contagio. Por ejemplo, el gran salto en la serie de China el 13 de febrero no se debe a un alto n�mero de contagios, sino a un cambio en la metodolog�a de reporte (incluyeron las tomograf�as como evidencia del COVID-19, en lugar de s�lo las pruebas de laboratorio).</p>\n<p>Al hacer anotaciones a nuestra gr�fica de eventos como este, podemos interpretar de mejor forma la serie.</p>"
    },
    {
      "metadata": {
        "dc": { "key": "26" },
        "tags": [ "sample_code" ],
        "trusted": true
      },
      "cell_type": "code",
      "source": "eventos_oms <- read.csv('datos/eventos_oms.csv', stringsAsFactors = FALSE)\n) %>%\n  mutate(fecha = as.Date(fecha))\n\n# Usando la base eventos_oms, a�ade lineas punteadas verticales mapeando 'fecha' en la dimensi�n xintercept\n# y a�ade tambi�n una geometr�a de texto (geom_text) mapeando en x 'fecha'\n# en label 'evento' y estableciendo la dimensi�n y a una altura fija de 100,000\ngraf_casos_china_vs_mundo +\n  geom_vline(aes(xintercept=fecha), data=eventos_oms, linetype=\"dashed\") +\n  geom_text(aes(x=fecha, label=evento), y=100000, data=eventos_oms)",
      "execution_count": 116
    },
    {
      "metadata": {
        "dc": { "key": "33" },
        "deletable": false,
        "editable": false,
        "run_control": { "frozen": true },
        "tags": [ "context" ]
      },
      "cell_type": "markdown",
      "source": "## 5. A�adir l�nea de tendencia a China\n<p>Para determinar la gravedad de la situaci�n, calcularemos la velocidad de crecimiento de los casos confirmados. Un buen inicio ser�a determinar si los casos crecen de forma lineal o no.</p>\n<p>Hay un claro aumento de casos el 13 de febrero a partir de los cambios en el reporte de China. Sin embargo, unos d�as despu�s, la velocidad de crecimiento vuelve a caer. �C�mo podemos describir el comportamiento de los casos confirmados en China despu�s de l 15 de febrero?</p>"
    },
    {
      "metadata": {
        "dc": { "key": "33" },
        "tags": [ "sample_code" ],
        "trusted": true
      },
      "cell_type": "code",
      "source": "# Filtra la base para quedarnos con las observaciones que en la variable 'es_china' tienen el valor 'China' desde el 15 de febrero\nchina_post_15feb <- casos_china_vs_mundo %>%\n  dplyr::filter(fecha >= \"2020-02-15\" & es_china ==\"China\")\n\n# Usando china_post_15feb, genera una gr�fica de l�nea con casos_acum vs. fecha\n# A�ade una l�nea de regresi�n lineal, sin �reas de error \nggplot(china_post_15feb, aes(x=fecha, y=casos_acum, color=es_china)) +\n  geom_line() +\n  geom_smooth(method=\"lm\", se=FALSE) +\n  ylab(\"Casos confirmados acumulados\")",
      "execution_count": 118
    },
    {
      "metadata": {
        "dc": { "key": "40" },
        "deletable": false,
        "editable": false,
        "run_control": { "frozen": true },
        "tags": [ "context" ]
      },
      "cell_type": "markdown",
      "source": "## 6. �Y el resto del mundo?\n<p>De la gr�fica anterior observamos que la tasa de crecimiento en China es m�s lenta que el crecimiento lineal. Es una gran noticia porque indica que China al menos contuvo el virus a fines de febrero y principios de marzo.</p>\n<p>�C�mo le fue al resto del mundo cuando lo comparamos con el crecimiento lineal?</p>"
    },
    {
      "metadata": {
        "dc": { "key": "40" },
        "tags": [ "sample_code" ],
        "trusted": true
      },
      "cell_type": "code",
      "source": "# Filtra los casos_china_vs_mundo para quedarte con las observaciones donde 'es_china' sea igual a 'No es China'\nno_china <- dplyr::filter(casos_china_vs_mundo, es_china == \"No es China\")\n\n# Usando no_china, dibuja un gr�fico de l�nea con casos_acum vs. fecha\n# A�ade una regresi�n lineal, sin barras de error\ngraf_no_china <- ggplot(no_china, aes(x=fecha, y=casos_acum)) +\n  geom_line() +\n  geom_smooth(method=\"lm\", se=FALSE) +\n  ylab(\"Casos confirmados acumulados\")\n\n# Imprime el resultado\ngraf_no_china ",
      "execution_count": 120
    },
    {
      "metadata": {
        "dc": { "key": "47" },
        "deletable": false,
        "editable": false,
        "run_control": { "frozen": true },
        "tags": [ "context" ]
      },
      "cell_type": "markdown",
      "source": "## 7. Cambiar a escala logar�tmica\n<p>En el gr�fico anterior, podemos ver que una l�nea recta no se ajusta bien porque el resto del mundo est� creciendo mucho m�s r�pido que un crecimiento lineal. Agregemos la escala logar�tmica al eje. Para ello a�ade scale_y_log10() al gr�fico.</p>"
    },
    {
      "metadata": {
        "dc": { "key": "47" },
        "tags": [ "sample_code" ],
        "trusted": true
      },
      "cell_type": "code",
      "source": "# Modiufica el gr�fico para usar la escala logar�tmica en el eje y\ngraf_no_china + \n  scale_y_log10()",
      "execution_count": 122
    },
    {
      "metadata": {
        "dc": { "key": "56" },
        "deletable": false,
        "editable": false,
        "run_control": { "frozen": true },
        "tags": [ "context" ]
      },
      "cell_type": "markdown",
      "source": "## 8. �Cuales paises han sido los m�s afectados?\n<p>Con la escala logar�tmica, encontramos un mejor modelo para describir nuestros datos. Desafortunadamente, desde el punto de vista de salud p�blica, esto significa que los casos de COVID-19 crecieron a una tasa exponencial.</p>\n<p>No todos los pa�ses han sido afectados de igual forma, por lo que ser�a �til tener una gr�fica para poder diferenciarlos. Hagamos seis gr�ficas con los casos de los 7 pa�ses m�s afectados por el COVID-19.</p>"
    },
    {
      "metadata": {
        "dc": { "key": "56" },
        "tags": [ "sample_code" ],
        "trusted": true
      },
      "cell_type": "code",
      "source": "# Carga la base de datos por pa�s\ncasos_por_pais <- read_csv(\"datos/cases_por_pais.csv\")\nglimpse(cases_por_pais)\n\n# Agrupa por pa�s, utiliza summarize para calcular casos_totales como el valor m�ximo de cada Estado y encuentra los primeros 7\nprimeros_lugares <- casos_por_pais %>%\n  group_by(pais) %>%\n  summarize(casos_totales = max(casos_acum)) %>% \n  top_n(6, casos_totales)\n\n# Ve los resultados\nprimeros_lugares",
      "execution_count": 124
    },
    {
      "metadata": {
        "dc": { "key": "63" },
        "deletable": false,
        "editable": false,
        "run_control": { "frozen": true },
        "tags": [ "context" ]
      },
      "cell_type": "markdown",
      "source": "## 9. Grafica los pa�ses m�s afectados en mediados de marzo\n<p>Aunque el brote se identific� por primera vez en China, solo hay un pa�s de Asia oriental (Corea del Sur) en la tabla anterior. Cuatro de los pa�ses enumerados (Francia, Alemania, Italia y Espa�a) est�n en Europa y comparten fronteras. Para obtener m�s contexto, podemos trazar los casos confirmados de estos pa�ses a lo largo del tiempo.</p><p>En el �ltimo ejercicio utiliza la funcion facet_wrap() para generar las seis gr�ficas de los pa�ses m�s afectados.</p>"
    },
    {
      "metadata": {
        "dc": { "key": "63" },
        "tags": [ "sample_code" ],
        "trusted": true
      },
      "cell_type": "code",
      "source": "# Carga las bases del top 7\ncasos_top7 <- read_csv(\"datos/casos_top7.csv\")\n\n# \nglimpse(casos_top7)\n\n# Usando casos_top7, dibuja un gr�fico de linea de\n# casos_acum vs. fecha, coloreado por pa�s, en p�neles separados.\nggplot(casos_top7,\n      aes(x=fecha, y=casos_acum, color=pais))+\ngeom_line()+\n      facet_wrap(~pais) +\nlabs(y=\"Casos confirmadosacumulados\")",
      "execution_count": 126
    }
  ],
  "metadata": {
    "kernelspec": {
      "name": "ir",
      "display_name": "R",
      "language": "R"
    },
    "language_info": {
      "codemirror_mode": "r",
      "file_extension": ".r",
      "mimetype": "text/x-r-source",
      "name": "R",
      "pygments_lexer": "r",
      "version": "3.5.3"
    }
  },
  "nbformat": 4,
  "nbformat_minor": 2
}